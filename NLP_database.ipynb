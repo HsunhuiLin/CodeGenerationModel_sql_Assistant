{
  "nbformat": 4,
  "nbformat_minor": 0,
  "metadata": {
    "colab": {
      "provenance": [],
      "authorship_tag": "ABX9TyPdI+hWXhsw6qTLDjXoiFdQ",
      "include_colab_link": true
    },
    "kernelspec": {
      "name": "python3",
      "display_name": "Python 3"
    },
    "language_info": {
      "name": "python"
    }
  },
  "cells": [
    {
      "cell_type": "markdown",
      "metadata": {
        "id": "view-in-github",
        "colab_type": "text"
      },
      "source": [
        "<a href=\"https://colab.research.google.com/github/HsunhuiLin/CodeGenerationModel_sql_Assistant/blob/main/NLP_database.ipynb\" target=\"_parent\"><img src=\"https://colab.research.google.com/assets/colab-badge.svg\" alt=\"Open In Colab\"/></a>"
      ]
    },
    {
      "cell_type": "markdown",
      "source": [
        "Translating natural language instructions to SQL\n"
      ],
      "metadata": {
        "id": "CDkBMSxBvY87"
      }
    },
    {
      "cell_type": "code",
      "source": [
        "!pip install sqlalchemy\n",
        "# CSV --> SQL RAM (in-memory database) --> query using SQL -> results"
      ],
      "metadata": {
        "id": "u2T21At-wgvK",
        "colab": {
          "base_uri": "https://localhost:8080/"
        },
        "outputId": "d3a57191-4429-40e7-911e-33ad536223bf"
      },
      "execution_count": 1,
      "outputs": [
        {
          "output_type": "stream",
          "name": "stdout",
          "text": [
            "Requirement already satisfied: sqlalchemy in /usr/local/lib/python3.10/dist-packages (2.0.28)\n",
            "Requirement already satisfied: typing-extensions>=4.6.0 in /usr/local/lib/python3.10/dist-packages (from sqlalchemy) (4.10.0)\n",
            "Requirement already satisfied: greenlet!=0.4.17 in /usr/local/lib/python3.10/dist-packages (from sqlalchemy) (3.0.3)\n"
          ]
        }
      ]
    },
    {
      "cell_type": "code",
      "source": [
        "import os\n",
        "os.getcwd()\n",
        "os.environ['GOOGLE_APPLICATION_CREDENTIALS']='/content/composed-setup-416711-624ff8c42fc5.json'"
      ],
      "metadata": {
        "id": "MoOZHKq37D1Z"
      },
      "execution_count": 2,
      "outputs": []
    },
    {
      "cell_type": "code",
      "execution_count": 3,
      "metadata": {
        "id": "ZodQAS47vBOf"
      },
      "outputs": [],
      "source": [
        "import pandas as pd\n",
        "from sqlalchemy import create_engine, text"
      ]
    },
    {
      "cell_type": "code",
      "source": [
        "df=pd.read_csv('/content/penguins.csv')\n",
        "\n",
        "database = create_engine('sqlite:///:memory:', echo=False)\n",
        "table = df.to_sql(name='Penguins', con=database)"
      ],
      "metadata": {
        "id": "umPqoYlfxKZY"
      },
      "execution_count": 5,
      "outputs": []
    },
    {
      "cell_type": "code",
      "source": [
        "with database.connect() as conn:\n",
        "  result = conn.execute(text(\"SELECT * FROM Penguins\"))\n",
        "\n",
        "# check results of all rows\n",
        "result.all()"
      ],
      "metadata": {
        "id": "QynIhDb9xpw0"
      },
      "execution_count": null,
      "outputs": []
    },
    {
      "cell_type": "code",
      "source": [
        "# Inspect dataset properties and feed it to model's prefix\n",
        "df.info()"
      ],
      "metadata": {
        "colab": {
          "base_uri": "https://localhost:8080/"
        },
        "id": "Ofx5Rmo0xyiM",
        "outputId": "ebcbf4a8-6ac7-4f23-9904-0935d82e0791"
      },
      "execution_count": 7,
      "outputs": [
        {
          "output_type": "stream",
          "name": "stdout",
          "text": [
            "<class 'pandas.core.frame.DataFrame'>\n",
            "RangeIndex: 344 entries, 0 to 343\n",
            "Data columns (total 7 columns):\n",
            " #   Column             Non-Null Count  Dtype  \n",
            "---  ------             --------------  -----  \n",
            " 0   species            344 non-null    object \n",
            " 1   island             344 non-null    object \n",
            " 2   bill_length_mm     342 non-null    float64\n",
            " 3   bill_depth_mm      342 non-null    float64\n",
            " 4   flipper_length_mm  342 non-null    float64\n",
            " 5   body_mass_g        342 non-null    float64\n",
            " 6   sex                333 non-null    object \n",
            "dtypes: float64(4), object(3)\n",
            "memory usage: 18.9+ KB\n"
          ]
        }
      ]
    },
    {
      "cell_type": "code",
      "source": [
        "def create_prefix(query):\n",
        "  prefix = f'''Return SQL statement that answers the following query:\n",
        "  {query}\n",
        "\n",
        "  Properties of the table:\n",
        "  #   Column             Non-Null Count  Dtype\n",
        "  ---  ------             --------------  -----\n",
        "  0   species            344 non-null    object\n",
        "  1   island             344 non-null    object\n",
        "  2   bill_length_mm     342 non-null    float64\n",
        "  3   bill_depth_mm      342 non-null    float64\n",
        "  4   flipper_length_mm  342 non-null    float64\n",
        "  5   body_mass_g        342 non-null    float64\n",
        "  6   sex                333 non-null    object\n",
        "\n",
        "  Example rows:\n",
        "  (267, 'Gentoo', 'Biscoe', 50.5, 15.9, 225.0, 5400.0, 'MALE'),\n",
        "  (268, 'Gentoo', 'Biscoe', 44.9, 13.3, 213.0, 5100.0, 'FEMALE'),\n",
        "  (269, 'Gentoo', 'Biscoe', 45.2, 15.8, 215.0, 5300.0, 'MALE'),\n",
        "  (270, 'Gentoo', 'Biscoe', 46.6, 14.2, 210.0, 4850.0, 'FEMALE'),\n",
        "  (271, 'Gentoo', 'Biscoe', 48.5, 14.1, 220.0, 5300.0, 'MALE'),\n",
        "\n",
        "  Return only the sql statement.\n",
        "  '''\n",
        "\n",
        "  return prefix"
      ],
      "metadata": {
        "id": "GPLlkMiMxvPt"
      },
      "execution_count": 8,
      "outputs": []
    },
    {
      "cell_type": "code",
      "source": [
        "def user_input():\n",
        "  query = input(\"What information you need from the Penguin table?\\n\")\n",
        "  return create_prefix(query)"
      ],
      "metadata": {
        "id": "dzSj4_6FyHGV"
      },
      "execution_count": 17,
      "outputs": []
    },
    {
      "cell_type": "code",
      "source": [
        "from vertexai.language_models import CodeGenerationModel\n",
        "code_gen_model = CodeGenerationModel.from_pretrained('code-bison')"
      ],
      "metadata": {
        "id": "1zl_RZwW-wA2"
      },
      "execution_count": 12,
      "outputs": []
    },
    {
      "cell_type": "code",
      "source": [
        "# To clean the model-generated output to a string of SQL statement\n",
        "def clean_text(statement):\n",
        "  return statement.replace(\"```sql\",'').replace(\"```\",'').replace(\"\\n\", \" \")"
      ],
      "metadata": {
        "id": "YyAxvVQQy5U3"
      },
      "execution_count": 13,
      "outputs": []
    },
    {
      "cell_type": "code",
      "source": [
        "def nlp_assistant():\n",
        "  print(\"Hi! I am your technical assistant. You can ask me anything about the database we have.\")\n",
        "  print('\\n\\n')\n",
        "  prefix = user_input()\n",
        "  statement = code_gen_model.predict(prefix=prefix)\n",
        "  clean_sql = clean_text(statement.text)\n",
        "\n",
        "  with database.connect() as conn:\n",
        "    result = conn.execute(text(clean_sql))\n",
        "\n",
        "  print(\"\\n===================================\")\n",
        "  print(\"Here is your result:\\n\")\n",
        "  print(result.all())\n"
      ],
      "metadata": {
        "id": "IFchRQGxzg0l"
      },
      "execution_count": 18,
      "outputs": []
    },
    {
      "cell_type": "code",
      "source": [
        "nlp_assistant()"
      ],
      "metadata": {
        "colab": {
          "base_uri": "https://localhost:8080/"
        },
        "id": "gouRQAYYzpEY",
        "outputId": "a62ddde4-2cc1-4100-81f2-4438cc44343e"
      },
      "execution_count": 19,
      "outputs": [
        {
          "output_type": "stream",
          "name": "stdout",
          "text": [
            "Hi! I am your technical assistant. You can ask me anything about the database we have.\n",
            "\n",
            "\n",
            "\n",
            "What information you need from the Penguin table?\n",
            "How many male are there in each species?\n",
            "\n",
            "===================================\n",
            "Here is your result:\n",
            "\n",
            "[('Adelie', 73), ('Chinstrap', 34), ('Gentoo', 61)]\n"
          ]
        }
      ]
    }
  ]
}